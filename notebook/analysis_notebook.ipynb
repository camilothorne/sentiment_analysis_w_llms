{
 "cells": [
  {
   "cell_type": "markdown",
   "metadata": {},
   "source": [
    "# Sentiment classification with LLMs\n",
    "\n",
    "--------------\n",
    "\n",
    "**a) Goal:**\n",
    "\n",
    "In this notebook we demonstrate how to use the following pre-trained LLMs\n",
    "\n",
    "* **M1)** `Qwen2.5-1.5B-Instruct` (\"medium\").\n",
    "* **M2)** `Qwen2.5-0.5B-Instruct` (\"small\").\n",
    "  \n",
    "to perform sentiment analysis on movie reviews, using the HuggingFace library and a variety of methods (3).\n",
    "This notebook is designed to run on CUDA, MPS/Silicon or Intel chips. We recommend however using a CUDA-enabled\n",
    "or a Silicon M2+-enabled host for reasonable inference speeds.\n",
    "\n",
    "For more information on the Qwen models, please refer to this [page](https://qwenlm.github.io/blog/qwen2.5/).\n",
    "\n",
    "We will implement a number of methods using PyTorch and the HuggingFace Python libraries, detailed below.\n",
    "\n",
    "--------------\n",
    "\n",
    "**b) Dataset:** \n",
    "\n",
    "We will be using the [IMDB sentiment analysis](https://huggingface.co/datasets/ajaykarthick/imdb-movie-reviews) dataset from HuggingFace. This is a baöanced dataset of 50,000 (80% train, 20% test) IMDB movie reviews, of which 50% labelled as **positive** (label $1$ in the dataset) and 50% as **negative** (label $0$). Given that we will be fine-tuning M1 or M2, we will be using only a portion of the test set in this demo.\n",
    "\n",
    "--------------\n",
    "\n",
    "**c) Evaluation:** \n",
    "\n",
    "As this is a classification task, we're gonna be using traditional classification evaluation metrics (available in e.g. Scikit-learn) **precision**, **recall**, **F1-score**\n",
    "\n",
    "$$\n",
    "P = TP/(TP+FP) \\qquad R = TP/(TP+FN) \\qquad F_1 = 2PR/(P+R)\n",
    "$$\n",
    "\n",
    "and in particular **accuracy** the key metric we'll be using to compare performnance across all experiments:\n",
    "\n",
    "$$\n",
    "Acc = TP/(TP+FP+TN+FN)\n",
    "$$\n",
    "\n",
    "Additionally, we'll measure how many input words per second each model process, per evaluation method (**throughput**), although **we warn that thoughput numbers will vary between hosts** (although not their proportion). We will be using Scikit-learn's `classification_report`\n",
    "method (cf. [here](https://scikit-learn.org/stable/modules/generated/sklearn.metrics.classification_report.html)), that reports precision, recall, F1-score a) for each label, b) as a macro-average and c) as a weighted micro-average (weighted by label or class balance in the gold set).\n",
    "\n",
    "--------------\n",
    "\n",
    "**d) Structure:** \n",
    "\n",
    "This notebook is broken down into the following blocks:\n",
    "\n",
    "* Library imports and instatiation of models and tokenizers on host device (GPU or CPU).\n",
    "* Downloading and sampling of test corpus.\n",
    "* Experiments:\n",
    "   - Experiment 1) Zero-shot experiment with precision, recall, F1-score and accuracy scores. Additionally, we include basic profiling (tokens per second).\n",
    "   - Experiment 2) Log-likelihood experiment, with identical evaluation methodology.\n",
    "   - Experiment 3) 5-shot in context learning experiment, with identical evaluation methodology.\n",
    "   - Experiment 4) with sampling, optimizing temperature $\\tau$ and $\\text{top}_k$, with identical evaluation methodology.\n",
    "   - Experiment 5) using chain-of-thought (CoT), a method used in reasoning tasks but that is known to sometimes\n",
    "     improve on classification peformance for LLMs.\n",
    "* Discussion and error analysis (including confusion matrixes).\n",
    "* Appendix with additional plots.\n",
    "\n",
    "-------------\n",
    "\n",
    "**e) Notes:**\n",
    "\n",
    "1. Please note that results may vary between runs and hosts, as we are randomly sampling the data to derive a subset of 500 reviews for the experiments.\n",
    "2. This notebook was run on a Apple M2 MacBook Air (2022) with 24GB of RAM, using one of its GPU cores (via the so-called MPS driver). Time meaasurements may vary due to the differences in the host and the device. In particular, using a CPU may increase inference runetime ten-fold."
   ]
  },
  {
   "cell_type": "markdown",
   "metadata": {},
   "source": [
    "--------------\n",
    "## Setup\n",
    "\n",
    "### Import libraries"
   ]
  },
  {
   "cell_type": "code",
   "execution_count": 498,
   "metadata": {
    "id": "Jj7dhxX9SUHb"
   },
   "outputs": [],
   "source": [
    "import torch, transformers\n",
    "import time, os\n",
    "import numpy as np"
   ]
  },
  {
   "cell_type": "code",
   "execution_count": 2,
   "metadata": {
    "id": "3Q10cTA0SVeQ"
   },
   "outputs": [],
   "source": [
    "from transformers import AutoModelForCausalLM, AutoTokenizer"
   ]
  },
  {
   "cell_type": "code",
   "execution_count": 150,
   "metadata": {
    "id": "xMYNcif9KovY"
   },
   "outputs": [],
   "source": [
    "from datasets import load_dataset\n",
    "import pandas as pd"
   ]
  },
  {
   "cell_type": "code",
   "execution_count": 4,
   "metadata": {},
   "outputs": [],
   "source": [
    "from sklearn.metrics import classification_report"
   ]
  },
  {
   "cell_type": "code",
   "execution_count": 284,
   "metadata": {},
   "outputs": [],
   "source": [
    "from sklearn import metrics\n",
    "from torchinfo import summary"
   ]
  },
  {
   "cell_type": "code",
   "execution_count": 478,
   "metadata": {},
   "outputs": [],
   "source": [
    "from sklearn.metrics import accuracy_score as accuracy\n",
    "from sklearn.metrics import f1_score as agreement"
   ]
  },
  {
   "cell_type": "code",
   "execution_count": 18,
   "metadata": {},
   "outputs": [],
   "source": [
    "import warnings\n",
    "warnings.filterwarnings(\"ignore\")"
   ]
  },
  {
   "cell_type": "markdown",
   "metadata": {},
   "source": [
    "### Set up device and instantiate models and tokenizers\n",
    "\n",
    "As device we use either:\n",
    "\n",
    "* a CUDA (NVIDIA GPU) or MPS (Apple Silicon GPU) device, or\n",
    "* if neither is available on the host, the CPU.\n",
    "\n",
    "We're gonna run experiments on two LLMs of the Qwen2.5 family with 1.B and 500M parameters. Here we download them, together with their BPE tokenizers and instantiate them."
   ]
  },
  {
   "cell_type": "code",
   "execution_count": 302,
   "metadata": {
    "id": "MCQvhs5QTl_e"
   },
   "outputs": [
    {
     "name": "stdout",
     "output_type": "stream",
     "text": [
      "Using Silicon / MPS GPU\n"
     ]
    }
   ],
   "source": [
    "'''\n",
    "Set up device - one of\n",
    "\n",
    "    - CUDA (NVIDIA GPU)\n",
    "    - MPS (Silicon GPU)\n",
    "    - CPU\n",
    "'''\n",
    "if torch.cuda.is_available():\n",
    "    print('Using NVIDIA / CUDA GPU')\n",
    "    torch.device('cuda')\n",
    "elif torch.backends.mps.is_available():\n",
    "    print('Using Silicon / MPS GPU')\n",
    "    torch.device('mps')\n",
    "else:\n",
    "    print(f'Using {os.cpu_count()} CPUs')\n",
    "    torch.device('cpu')"
   ]
  },
  {
   "cell_type": "code",
   "execution_count": 7,
   "metadata": {
    "id": "GBFjyVgMsFXO"
   },
   "outputs": [],
   "source": [
    "model_checkpoint_medium_x = \"Qwen/Qwen2.5-1.5B-Instruct\"\n",
    "model_checkpoint_small_x  = \"Qwen/Qwen2.5-0.5B-Instruct\""
   ]
  },
  {
   "cell_type": "code",
   "execution_count": 8,
   "metadata": {
    "id": "Sp1Z5DWIUw-8"
   },
   "outputs": [],
   "source": [
    "#%%capture\n",
    "model_m = AutoModelForCausalLM.from_pretrained(\n",
    "    model_checkpoint_medium_x,\n",
    "    device_map=\"auto\",\n",
    "    torch_dtype=\"auto\"\n",
    ")"
   ]
  },
  {
   "cell_type": "code",
   "execution_count": 9,
   "metadata": {
    "id": "JiCq-5b9yrOC"
   },
   "outputs": [],
   "source": [
    "%%capture\n",
    "model_s = AutoModelForCausalLM.from_pretrained(\n",
    "    model_checkpoint_small_x,\n",
    "    torch_dtype=\"auto\",\n",
    "    device_map=\"auto\"\n",
    ")"
   ]
  },
  {
   "cell_type": "code",
   "execution_count": 294,
   "metadata": {},
   "outputs": [],
   "source": [
    "# Uncomment to visualize model statistics\n",
    "# Inference in these models functions at a 16-bit precision level\n",
    "# summary(model_m, verbose=0)"
   ]
  },
  {
   "cell_type": "code",
   "execution_count": 295,
   "metadata": {},
   "outputs": [],
   "source": [
    "# Uncomment to visualize model statistics\n",
    "# Visualize model statistics\n",
    "# Inference in these models functions at a 16-bit precision level\n",
    "# summary(model_s, verbose=0)"
   ]
  },
  {
   "cell_type": "code",
   "execution_count": 10,
   "metadata": {
    "id": "vqZDlpaDEyZp"
   },
   "outputs": [],
   "source": [
    "%%capture\n",
    "tokenizer_m = AutoTokenizer.from_pretrained(model_checkpoint_medium_x)"
   ]
  },
  {
   "cell_type": "code",
   "execution_count": 292,
   "metadata": {},
   "outputs": [
    {
     "name": "stdout",
     "output_type": "stream",
     "text": [
      "The 1.5B model has a vocabulary of 151643 tokens.\n"
     ]
    }
   ],
   "source": [
    "print(f'The 1.5B model has a vocabulary of {tokenizer_m.vocab_size} tokens.')"
   ]
  },
  {
   "cell_type": "code",
   "execution_count": 11,
   "metadata": {
    "id": "QrQtga_HEyEY"
   },
   "outputs": [],
   "source": [
    "%%capture\n",
    "tokenizer_s = AutoTokenizer.from_pretrained(model_checkpoint_small_x)"
   ]
  },
  {
   "cell_type": "code",
   "execution_count": 293,
   "metadata": {},
   "outputs": [
    {
     "name": "stdout",
     "output_type": "stream",
     "text": [
      "The 500M model has a vocabulary of 151643 tokens.\n"
     ]
    }
   ],
   "source": [
    "print(f'The 500M model has a vocabulary of {tokenizer_s.vocab_size} tokens.')"
   ]
  },
  {
   "cell_type": "markdown",
   "metadata": {},
   "source": [
    "--------------\n",
    "## Download IMDB dataset, and derive sample\n",
    "\n",
    "#### A. Download and inspect\n",
    "\n",
    "We download the IMDB movie reviews dataset, and focus on a small sample of ~500 reviews (50% positive, 50% negative) for our experiments, derived from the test set."
   ]
  },
  {
   "cell_type": "code",
   "execution_count": 20,
   "metadata": {
    "id": "DU2PyjHsUwaL"
   },
   "outputs": [
    {
     "name": "stderr",
     "output_type": "stream",
     "text": [
      "huggingface/tokenizers: The current process just got forked, after parallelism has already been used. Disabling parallelism to avoid deadlocks...\n",
      "To disable this warning, you can either:\n",
      "\t- Avoid using `tokenizers` before the fork if possible\n",
      "\t- Explicitly set the environment variable TOKENIZERS_PARALLELISM=(true | false)\n"
     ]
    }
   ],
   "source": [
    "%%capture\n",
    "dataset = load_dataset(\"ajaykarthick/imdb-movie-reviews\")"
   ]
  },
  {
   "cell_type": "code",
   "execution_count": 142,
   "metadata": {
    "colab": {
     "base_uri": "https://localhost:8080/"
    },
    "id": "simQdPG7LAI2",
    "outputId": "e53466b0-3775-40d0-adc8-fb81fefc82db"
   },
   "outputs": [
    {
     "data": {
      "text/plain": [
       "DatasetDict({\n",
       "    train: Dataset({\n",
       "        features: ['review', 'label'],\n",
       "        num_rows: 40000\n",
       "    })\n",
       "    test: Dataset({\n",
       "        features: ['review', 'label'],\n",
       "        num_rows: 10000\n",
       "    })\n",
       "})"
      ]
     },
     "execution_count": 142,
     "metadata": {},
     "output_type": "execute_result"
    }
   ],
   "source": [
    "dataset"
   ]
  },
  {
   "cell_type": "code",
   "execution_count": 22,
   "metadata": {
    "id": "PJyb599JLZV9"
   },
   "outputs": [],
   "source": [
    "# We're only interested in the test set, as we don't plan to train any model\n",
    "df_pandas = pd.DataFrame(dataset['test'])"
   ]
  },
  {
   "cell_type": "code",
   "execution_count": 296,
   "metadata": {
    "colab": {
     "base_uri": "https://localhost:8080/",
     "height": 176
    },
    "id": "Txnub3qmkFqD",
    "outputId": "cad98bc8-93dc-471b-be2b-80e2fc0db80f"
   },
   "outputs": [],
   "source": [
    "# Uncomment to visualize data distribution\n",
    "# Label distribution is 50% for negatives and 50% for positives\n",
    "# df_pandas['label'].value_counts()"
   ]
  },
  {
   "cell_type": "code",
   "execution_count": 92,
   "metadata": {
    "id": "JGz6_BYrkJ_y"
   },
   "outputs": [],
   "source": [
    "%%capture\n",
    "# We derive a stratified random sample of 500 data points (5% of the test set)\n",
    "df_sample = df_pandas.groupby(['label']).apply(lambda f: f.sample(frac=0.05))"
   ]
  },
  {
   "cell_type": "code",
   "execution_count": 297,
   "metadata": {
    "colab": {
     "base_uri": "https://localhost:8080/",
     "height": 176
    },
    "id": "bJVPVFAQkhoR",
    "outputId": "89e27cca-0df0-478a-e6d1-378e3db8eb66"
   },
   "outputs": [],
   "source": [
    "# Uncomment to visualize data distribution\n",
    "# Label distribution should be the same as before\n",
    "# df_sample.label.value_counts()"
   ]
  },
  {
   "cell_type": "code",
   "execution_count": 298,
   "metadata": {
    "id": "oY4xYVWRlG6h"
   },
   "outputs": [],
   "source": [
    "# We create human readable sentiment labels\n",
    "df_sample['sentiment'] = df_sample['label'].map({0:'negative', 1:'positive'})"
   ]
  },
  {
   "cell_type": "markdown",
   "metadata": {},
   "source": [
    "#### B. Collect corpus statistics\n",
    "\n",
    "We count how many words (for simplicity we tokenize by whitespace) there are per sentence in our test set (average, minimum and maximum), as well as the total number of words and sentences."
   ]
  },
  {
   "cell_type": "code",
   "execution_count": 95,
   "metadata": {
    "id": "UwlezdDx9V37"
   },
   "outputs": [],
   "source": [
    "def corpus_stats(corpus:list[str])->tuple[int,float,int,int,int]:\n",
    "    '''\n",
    "    Corpus statistics (whitespace tokenization)\n",
    "    \n",
    "    Arguments:\n",
    "        - corpus: list of strings\n",
    "    Returns:\n",
    "        - number of sentences\n",
    "        - average number of tokens per sentence\n",
    "        - total number of words\n",
    "        - max number of tokens per sentence\n",
    "        - min number of tokens per sentence\n",
    "    '''\n",
    "    tot_sents  = len(corpus)\n",
    "    n_tokens   = []\n",
    "    tot_words  = 0\n",
    "    for sent in corpus:\n",
    "        n_tokens.append(len(sent.split(' ')))\n",
    "        tot_words += len(sent.split(' '))\n",
    "    # Print stats\n",
    "    print(f'Number of sentences:                  {tot_sents}')\n",
    "    print(f'Average number of words per sentence: {sum(n_tokens)/tot_sents}')\n",
    "    print(f'Max number of words per sentence:     {max(n_tokens)}')\n",
    "    print(f'Min number of words per sentence:     {min(n_tokens)}')\n",
    "    print(f'Total number of words:                {tot_words}')\n",
    "    return tot_sents, sum(n_tokens)/tot_sents, tot_words, max(n_tokens), min(n_tokens)"
   ]
  },
  {
   "cell_type": "code",
   "execution_count": 96,
   "metadata": {
    "colab": {
     "base_uri": "https://localhost:8080/"
    },
    "id": "wIF9s3ch-myx",
    "outputId": "317f9379-96d4-48c6-a8a3-dfb5b656d428"
   },
   "outputs": [
    {
     "name": "stdout",
     "output_type": "stream",
     "text": [
      "Number of sentences:                  500\n",
      "Average number of words per sentence: 231.512\n",
      "Max number of words per sentence:     1066\n",
      "Min number of words per sentence:     30\n",
      "Total number of words:                115756\n"
     ]
    }
   ],
   "source": [
    "total_sentences, avg_words, total_words, max_words, min_words = corpus_stats(list(df_sample.review.values))"
   ]
  },
  {
   "cell_type": "markdown",
   "metadata": {},
   "source": [
    "----------------\n",
    "## Experiments"
   ]
  },
  {
   "cell_type": "markdown",
   "metadata": {},
   "source": [
    "### Method 1) zero-shot learning\n",
    "\n",
    "In **zero-shot learning**, we want the LLMs to detect the sentiment of an input prompt $t$ as\n",
    "the most likely continuation of $t$, without any fine-tuning of the models themselves to the domain or task. I.e., express classification as simple text (one token) text generation task:\n",
    "\n",
    "\\begin{equation}\n",
    "   c^* = \\text{argmax}_{c \\in V} \\ln P(c|t) \\tag{P}\n",
    "\\end{equation}\n",
    "\n",
    "where $V$ is the model vocabulary. The expectation is that $c$ - the most likely continuation - is the word **positive** or **negative**. \n",
    "This kind of inference is also known as **greedy decoding**, as the model returns always the most likely next token. Expressing classification in this manner is known to work quite well for large LLMs like GPT-4. Given that M1 is 3 times larger than M2, one would expect that accuracy is higher for M1. \n",
    "\n",
    "The intuition here is to rely on the learned knowledge and reasoning capabilities (including, classification) acquired by the LLM during pre-training and instruction tuning resp., to generalize and solve an unseen task.  \n",
    "\n",
    "Thus, given an input text `I` we prompt the model with the following prompt string $t$ =  \n",
    "```\n",
    "\"What is the sentiment of the following text, reply 'positive' or 'negative': \" + I\n",
    "```\n",
    "and use functions to encode text, call models and decode answers, using greedy decoding (equation ($\\text{P}$)).\n",
    "\n",
    "While this method works well for GPT-4, it yields overall poor results (less than 5% accuracy) for models M1 and M2, even if M1 is marginally better (4% vs. 3%)."
   ]
  },
  {
   "cell_type": "code",
   "execution_count": 89,
   "metadata": {
    "id": "hsmxtik5SVlA"
   },
   "outputs": [],
   "source": [
    "def encode_input_zero(input_prompt:str,\n",
    "                 tokenizer:transformers.AutoTokenizer,\n",
    "                 model:transformers.AutoModelForCausalLM)->torch.Tensor:\n",
    "    '''\n",
    "    Function for parsing prompts embedded in conversation messages\n",
    "\n",
    "    Arguments:\n",
    "        - input_prompt:  input query string\n",
    "        - tokenizer:     AutoTokenizer object\n",
    "        - model:         AutoModelForCausalLM object\n",
    "    Returns:\n",
    "        - tensor\n",
    "    '''\n",
    "    # The 'user' message is used to query the model with a sentiment prompt.\n",
    "    messages = [\n",
    "        {\"role\": \"system\", \"content\":\n",
    "                \"You are Qwen, created by Alibaba Cloud. You are a helpful assistant.\"},\n",
    "        {\"role\": \"user\", \"content\":\n",
    "                \"What is the sentiment of the following text, reply 'positive' or 'negative': \" + input_prompt}\n",
    "    ]\n",
    "    # Transforms message JSON into a plain text string in the model's input format.\n",
    "    text = tokenizer.apply_chat_template(\n",
    "        messages,\n",
    "        tokenize=False,\n",
    "        add_generation_prompt=True\n",
    "    )\n",
    "    # Returns a tensor.\n",
    "    return tokenizer([text],\n",
    "                      return_tensors = 'pt'\n",
    "                    ).to(model.device)"
   ]
  },
  {
   "cell_type": "code",
   "execution_count": 208,
   "metadata": {
    "id": "1JuwGzOZCrDk"
   },
   "outputs": [],
   "source": [
    "def generate_response(input_prompt:str,\n",
    "                      tokenizer:transformers.AutoTokenizer,\n",
    "                      model:transformers.AutoModelForCausalLM,\n",
    "                      length:int=1)->str:\n",
    "    '''\n",
    "    Function for generating responses\n",
    "\n",
    "    Arguments:\n",
    "        - input_prompt:  query string\n",
    "        - tokenizer:     AutoTokenizer object\n",
    "        - model:         AutoModelForCausalLM object\n",
    "        - length:        integer used to cap the length of the output sequence (1 token or word by default)\n",
    "    Returns:\n",
    "        - string (label)\n",
    "    '''\n",
    "    # We encode inputs into a tensor.\n",
    "    model_inputs = encode_input_zero(input_prompt, tokenizer, model)\n",
    "    # We use greedy decoding to generate the labels.\n",
    "    generated_ids = model.generate(\n",
    "        **model_inputs,\n",
    "        max_new_tokens=length\n",
    "    )\n",
    "    # We decode the returned tensor into a string and\n",
    "    # Return it lower-cased.\n",
    "    generated_ids = [\n",
    "        output_ids[len(input_ids):] for input_ids,\n",
    "            output_ids in zip(model_inputs.input_ids, generated_ids)\n",
    "    ]\n",
    "    response = tokenizer.batch_decode(generated_ids, skip_special_tokens=True)[0]\n",
    "    return response.lower()"
   ]
  },
  {
   "cell_type": "markdown",
   "metadata": {},
   "source": [
    "We process our sample with both models, and measure for each model:\n",
    " - throughput\n",
    " - model performanace."
   ]
  },
  {
   "cell_type": "code",
   "execution_count": 97,
   "metadata": {
    "colab": {
     "base_uri": "https://localhost:8080/"
    },
    "id": "cgy45sUW_553",
    "outputId": "3124475f-582b-46c5-b352-5c689755d53c"
   },
   "outputs": [
    {
     "name": "stdout",
     "output_type": "stream",
     "text": [
      "Time taken: 504.82461190223694s\n"
     ]
    }
   ],
   "source": [
    "start = time.time()\n",
    "df_sample['response_m'] = df_sample.review.apply(lambda x: generate_response_zero(str(x), tokenizer_m, model_m))\n",
    "end = time.time()\n",
    "print(f'Time taken: {end-start}s')\n",
    "med_time = end-start"
   ]
  },
  {
   "cell_type": "code",
   "execution_count": 98,
   "metadata": {
    "colab": {
     "base_uri": "https://localhost:8080/"
    },
    "id": "l9lMnU6LG3AP",
    "outputId": "c807dc51-6e72-4fb0-9f23-b9b4fb0fcc7b"
   },
   "outputs": [
    {
     "name": "stdout",
     "output_type": "stream",
     "text": [
      "Time taken: 308.7607321739197s\n"
     ]
    }
   ],
   "source": [
    "start = time.time()\n",
    "df_sample['response_s'] = df_sample.review.apply(lambda x: generate_response_zero(str(x), tokenizer_s, model_s))\n",
    "end = time.time()\n",
    "print(f'Time taken: {end-start}s')\n",
    "small_time = end-start"
   ]
  },
  {
   "cell_type": "code",
   "execution_count": 99,
   "metadata": {
    "colab": {
     "base_uri": "https://localhost:8080/"
    },
    "id": "pDUG0r2_HLoF",
    "outputId": "2dfa9d2e-88f1-4f0d-cdec-1536f184474e"
   },
   "outputs": [
    {
     "name": "stdout",
     "output_type": "stream",
     "text": [
      "Time per word for 1.5B model: 229.29943840063214 words per second\n",
      "Time per word for 500 model : 374.9051868901406 words per second\n"
     ]
    }
   ],
   "source": [
    "print(f'Time per word for 1.5B model: {total_words / med_time} words per second')\n",
    "print(f'Time per word for 500 model : {total_words / small_time} words per second')"
   ]
  },
  {
   "cell_type": "code",
   "execution_count": 101,
   "metadata": {
    "colab": {
     "base_uri": "https://localhost:8080/"
    },
    "id": "YgLXFZJiKwtr",
    "outputId": "843caff5-d2cb-471c-8b63-a5c6bc034b33"
   },
   "outputs": [
    {
     "name": "stdout",
     "output_type": "stream",
     "text": [
      "              precision    recall  f1-score   support\n",
      "\n",
      "       based       0.00      0.00      0.00         0\n",
      "    negative       0.04      0.04      0.04       250\n",
      "    positive       0.04      0.03      0.03       250\n",
      "         the       0.00      0.00      0.00         0\n",
      "          to       0.00      0.00      0.00         0\n",
      "\n",
      "    accuracy                           0.04       500\n",
      "   macro avg       0.02      0.01      0.02       500\n",
      "weighted avg       0.04      0.04      0.04       500\n",
      "\n"
     ]
    }
   ],
   "source": [
    "print(classification_report(df_sample.sentiment, df_sample.response_m, zero_division=0))"
   ]
  },
  {
   "cell_type": "code",
   "execution_count": 102,
   "metadata": {
    "colab": {
     "base_uri": "https://localhost:8080/"
    },
    "id": "0LU-nt6UKzrD",
    "outputId": "700fd3a5-285f-42a1-dba8-a2748e778d88"
   },
   "outputs": [
    {
     "name": "stdout",
     "output_type": "stream",
     "text": [
      "              precision    recall  f1-score   support\n",
      "\n",
      "       based       0.00      0.00      0.00         0\n",
      "    negative       0.11      0.02      0.03       250\n",
      "    positive       0.06      0.04      0.05       250\n",
      "         the       0.00      0.00      0.00         0\n",
      "\n",
      "    accuracy                           0.03       500\n",
      "   macro avg       0.04      0.01      0.02       500\n",
      "weighted avg       0.09      0.03      0.04       500\n",
      "\n"
     ]
    }
   ],
   "source": [
    "print(classification_report(df_sample.sentiment, df_sample.response_s, zero_division=0))"
   ]
  },
  {
   "cell_type": "markdown",
   "metadata": {
    "id": "s67BqSMil6Ln"
   },
   "source": [
    "### Method 2) log-likelihood queries (GPT-3 style classification)\n",
    "\n",
    "Here the idea is to model classification as a discriminative task, vs. a text generation task as before. Here we're going to try a trick from OpenAI's original GPT-3 paper:\n",
    "\n",
    ">On tasks that involve choosing one correct completion from several options (multiple choice), we provide K examples\n",
    "of context plus correct completion, followed by one example of context only, and compare the LM likelihood of\n",
    "each completion.\n",
    ">\n",
    ">(Language Models are Few-Shot Learners, p. 10, https://arxiv.org/abs/2005.14165)\n",
    "\n",
    "I.e. so-called \"likelihood queries\", where, instead of prompting the model to generate a sentiment continuation, we ask it which label\n",
    "impacts (**conditions**) most its next token distribution (via greedy decoding):\n",
    "\n",
    "\\begin{equation}\n",
    "    c^* = \\text{argmax}_{c \\in \\{+,-\\}} \\ln P(\\_|t,c).  \\tag{P'}\n",
    "\\end{equation}\n",
    "\n",
    "Basically, we're appending the label to the prompt, and disregarding the model continuation ($\\_$ can be any token). This construct emulates a softmax layer in a standard classifier. While this doubles the inference costs as you need to pit $P(\\_|t,+)$ against $P(\\_|t,-)$, prediction accuracy increases.\n",
    "\n",
    "The intuition here is that, even if the LLM's knowledge and reasoning capabilities might be insufficient for pure zero-shot learning, they are more than sufficient to understand which label (negative or positive) **is more consistent** with the input prompt $t$ via their effects on continuation likelihoods. Thus emulating the output softmax layer of a classification multi-layered perceptron. \n",
    "\n",
    "In order to do so, given a input `I` and a sentiment label `L` we define as input prompt $t,c=$\n",
    "```  \n",
    "\"Is the labelling of this prompt correct:\" + I + \" \" + L + \".\"\n",
    "```\n",
    "We also modify the decoding function so that it returns the logit score of the continuations, and implement equation $(\\text{P'})$.\n",
    "\n",
    "We can observe that this method is quite effective, yielding a maximum accuracy of 29%. This score is actually higher than the reported 7-10% classification (MMLU) accuracy for models M1 and M2 in the HuggingFace leaderboard. Although, paradoxically M2 beats M1."
   ]
  },
  {
   "cell_type": "code",
   "execution_count": 215,
   "metadata": {
    "id": "iBgw0c2qkU3A"
   },
   "outputs": [],
   "source": [
    "def encode_sentiment(input_prompt:str,\n",
    "                    tokenizer:transformers.AutoTokenizer,\n",
    "                    model:transformers.AutoModelForCausalLM,\n",
    "                    sentiment:str)->torch.Tensor:\n",
    "    '''\n",
    "    Function for parsing labelled prompts\n",
    "\n",
    "    Arguments:\n",
    "        - input_prompt:  input query string\n",
    "        - tokenizer:     AutoTokenizer object\n",
    "        - model:         AutoModelForCausalLM object\n",
    "        - sentiment:     sentiment label - 'positive' or 'negative' (string)\n",
    "    Returns:\n",
    "        - tensor\n",
    "    '''\n",
    "    messages = [\n",
    "        {\"role\": \"system\", \"content\":\n",
    "                \"You are Qwen, created by Alibaba Cloud. You are a helpful assistant.\"},\n",
    "        {\"role\": \"user\", \"content\":\n",
    "                \"Is the labelling of this prompt correct:\" + input_prompt + \" \" + sentiment + \".\"}\n",
    "    ]\n",
    "    text = tokenizer.apply_chat_template(\n",
    "        messages,\n",
    "        tokenize=False,\n",
    "        add_generation_prompt=True\n",
    "    )\n",
    "    return tokenizer([text],\n",
    "                      return_tensors = 'pt'\n",
    "                    ).to(model.device)"
   ]
  },
  {
   "cell_type": "code",
   "execution_count": 206,
   "metadata": {
    "id": "Or2D6wBSkIxp"
   },
   "outputs": [],
   "source": [
    "def get_sentiment_logit(input_prompt:str,\n",
    "                      tokenizer:transformers.AutoTokenizer,\n",
    "                      model:transformers.AutoModelForCausalLM,\n",
    "                      sentiment:str,\n",
    "                      length:int=1)->float:\n",
    "    '''\n",
    "    Function for generating responses with likelihoods\n",
    "\n",
    "    Arguments:\n",
    "        - input_prompt:  query string\n",
    "        - tokenizer:     AutoTokenizer object\n",
    "        - model:         AutoModelForCausalLM object\n",
    "        - sentiment:     sentiment label - 'positive' or 'negative' (string)\n",
    "    Returns:\n",
    "        - logit (float)\n",
    "    '''\n",
    "    # Note that we add a sentiment label here.\n",
    "    model_inputs = encode_sentiment(input_prompt, tokenizer, model, sentiment)\n",
    "    # Here, instead of generating a label, or text, we only focus\n",
    "    # on returning the likelihood of the predicted (best) next token (a float).\n",
    "    generated_ids = model.generate(\n",
    "        **model_inputs,\n",
    "        max_new_tokens=length,\n",
    "        output_scores=True,\n",
    "        do_sample=False,\n",
    "        return_dict_in_generate=True,\n",
    "        return_legacy_cache=True\n",
    "    )\n",
    "    return generated_ids.scores[0][0][0]"
   ]
  },
  {
   "cell_type": "code",
   "execution_count": 210,
   "metadata": {
    "id": "yugSHT0GtN3i"
   },
   "outputs": [],
   "source": [
    "def get_sentiment(input_prompt:str,\n",
    "                  tokenizer:transformers.AutoTokenizer,\n",
    "                  model:transformers.AutoModelForCausalLM)->str:\n",
    "    '''\n",
    "    Function to classify sentiment.\n",
    "    Implements equation (P') above.\n",
    "\n",
    "    Arguments:\n",
    "        - input_prompt:  query string\n",
    "        - tokenizer:     AutoTokenizer object\n",
    "        - model:         AutoModelForCausalLM object\n",
    "    Returns:\n",
    "        - string (sentiment label)\n",
    "    '''\n",
    "    pos = get_sentiment_logit(input_prompt, tokenizer, model, 'positive')\n",
    "    neg = get_sentiment_logit(input_prompt, tokenizer, model, 'negative')\n",
    "    # We return the label that gave rise to the highest log-likelihood.\n",
    "    if pos > neg:\n",
    "        return 'positive'\n",
    "    else:\n",
    "        return 'negative'"
   ]
  },
  {
   "cell_type": "markdown",
   "metadata": {},
   "source": [
    "We process our sample with both models, and measure for each model:\n",
    " - throughput\n",
    " - model performanace."
   ]
  },
  {
   "cell_type": "code",
   "execution_count": 111,
   "metadata": {
    "id": "jjscW673xkvX"
   },
   "outputs": [
    {
     "name": "stdout",
     "output_type": "stream",
     "text": [
      "Time taken: 850.3065111637115s\n"
     ]
    }
   ],
   "source": [
    "start = time.time()\n",
    "df_sample['response_m_log'] = df_sample.review.apply(lambda x: get_sentiment(str(x), tokenizer_m, model_m))\n",
    "end = time.time()\n",
    "print(f'Time taken: {end-start}s')\n",
    "med_time = end-start"
   ]
  },
  {
   "cell_type": "code",
   "execution_count": 112,
   "metadata": {
    "id": "U18LXCJixlom"
   },
   "outputs": [
    {
     "name": "stdout",
     "output_type": "stream",
     "text": [
      "Time taken: 404.215900182724s\n"
     ]
    }
   ],
   "source": [
    "start = time.time()\n",
    "df_sample['response_s_log'] = df_sample.review.apply(lambda x: get_sentiment(str(x), tokenizer_s, model_s))\n",
    "end = time.time()\n",
    "print(f'Time taken: {end-start}s')\n",
    "small_time = end-start"
   ]
  },
  {
   "cell_type": "code",
   "execution_count": 113,
   "metadata": {},
   "outputs": [
    {
     "name": "stdout",
     "output_type": "stream",
     "text": [
      "Time per word for 1.5B model: 136.1344391466305 words per second\n",
      "Time per word for 500 model : 286.37171360075894 words per second\n"
     ]
    }
   ],
   "source": [
    "print(f'Time per word for 1.5B model: {total_words / med_time} words per second')\n",
    "print(f'Time per word for 500 model : {total_words / small_time} words per second')"
   ]
  },
  {
   "cell_type": "code",
   "execution_count": 114,
   "metadata": {
    "id": "P5PHmPpjx3aH"
   },
   "outputs": [
    {
     "name": "stdout",
     "output_type": "stream",
     "text": [
      "              precision    recall  f1-score   support\n",
      "\n",
      "    negative       0.05      0.04      0.05       250\n",
      "    positive       0.15      0.16      0.15       250\n",
      "\n",
      "    accuracy                           0.10       500\n",
      "   macro avg       0.10      0.10      0.10       500\n",
      "weighted avg       0.10      0.10      0.10       500\n",
      "\n"
     ]
    }
   ],
   "source": [
    "print(classification_report(df_sample.sentiment, df_sample.response_m_log, zero_division=0))"
   ]
  },
  {
   "cell_type": "code",
   "execution_count": 115,
   "metadata": {
    "id": "_6gWlKWAx4KQ"
   },
   "outputs": [
    {
     "name": "stdout",
     "output_type": "stream",
     "text": [
      "              precision    recall  f1-score   support\n",
      "\n",
      "    negative       0.10      0.05      0.07       250\n",
      "    positive       0.36      0.53      0.43       250\n",
      "\n",
      "    accuracy                           0.29       500\n",
      "   macro avg       0.23      0.29      0.25       500\n",
      "weighted avg       0.23      0.29      0.25       500\n",
      "\n"
     ]
    }
   ],
   "source": [
    "print(classification_report(df_sample.sentiment, df_sample.response_s_log, zero_division=0))"
   ]
  },
  {
   "cell_type": "markdown",
   "metadata": {},
   "source": [
    "### Method 3) using in-context (a.k.a. K-shot) learning\n",
    "\n",
    "Until now, prediction has been so-called **zero-shot**. It is known that one can adapt LLM inference to downstream tasks, without training or fine-tuning via **few-shot-** a.k.a. **K-shot** a.k.a. **in-context-learning**. In this setting we augment the input prompt or text with positive and/or negative examples. This usually improves performance, without increase in inference time. The parameter **K** refers to the number (sequence length) of positive (and negative) examples $e = e_1,+ \\cdots e_k,+ \\cdots e_{k+1},-,\\cdots,e_{2k},-$ that are embedded in the input prompt to further **condition** generation.\n",
    "\n",
    "This method combines ideas from methods 1 and 2. Again, we rely on the learnt knowledge and capabilities of the LLM, and model classification as a conditioned generation task. The assumption here is that the examples constrain the model to return as next token\n",
    "the label most consistent with the input prompt $t$ (greedy decoding):\n",
    "\n",
    "\\begin{equation}\n",
    "    c^* = \\text{argmax}_{c \\in V} \\ln P(c|t,e).  \\tag{P\"}\n",
    "\\end{equation}\n",
    "\n",
    "Given e.g. K=1 with thus a single positive example `P`, a single negative example `N`, and input prompt `I`, then we issue the combined prompt $t,e=$\n",
    "\n",
    "```  \n",
    "\"What is the sentiment of the following text, reply 'positive' or 'negative': \" + P + 'Positive.\\n' + N + 'Negative.\\n' + I \n",
    "```\n",
    "\n",
    "The trick is to select sufficiently short examples, so as not to exceed the input sequence size of the model.\n",
    "\n",
    "This method is also effective, if slightly less than method 2: 26% accuracy (vs 29%). Again, model M2 beats M1."
   ]
  },
  {
   "cell_type": "code",
   "execution_count": 216,
   "metadata": {},
   "outputs": [],
   "source": [
    "def encode_input_with_context(input_prompt:str,\n",
    "                 tokenizer:transformers.AutoTokenizer,\n",
    "                 model:transformers.AutoModelForCausalLM,\n",
    "                 in_context:str)->torch.Tensor:\n",
    "    '''\n",
    "    Function for parsing prompts embedded in conversation messages, with\n",
    "    a variable storing in-context examples.\n",
    "\n",
    "    Arguments:\n",
    "        - input_prompt:  input query string\n",
    "        - tokenizer:     AutoTokenizer object\n",
    "        - model:         AutoModelForCausalLM object\n",
    "        - in_context:    string with K examples\n",
    "    Returns:\n",
    "        - tensor\n",
    "    '''\n",
    "    # Note the use of contexts.\n",
    "    messages = [\n",
    "        {\"role\": \"system\", \"content\":\n",
    "                \"You are Qwen, created by Alibaba Cloud. You are a helpful assistant.\"},\n",
    "        {\"role\": \"user\", \"content\":\n",
    "                \"What is the sentiment of the following text, reply 'positive' or 'negative': \" + in_context + input_prompt}\n",
    "    ]\n",
    "    text = tokenizer.apply_chat_template(\n",
    "        messages,\n",
    "        tokenize=False,\n",
    "        add_generation_prompt=True\n",
    "    )\n",
    "    return tokenizer([text],\n",
    "                      return_tensors = 'pt'\n",
    "                    ).to(model.device)"
   ]
  },
  {
   "cell_type": "code",
   "execution_count": 217,
   "metadata": {},
   "outputs": [],
   "source": [
    "def generate_response_with_context(input_prompt:str,\n",
    "                      tokenizer:transformers.AutoTokenizer,\n",
    "                      model:transformers.AutoModelForCausalLM,\n",
    "                      in_context:str,\n",
    "                      length:int=1)->str:\n",
    "    '''\n",
    "    Function for generating responses, with a variable storing in-context examples.\n",
    "\n",
    "    Arguments:\n",
    "        - input_prompt:  query string\n",
    "        - tokenizer:     AutoTokenizer object\n",
    "        - model:         AutoModelForCausalLM object\n",
    "        - in_context:    string with K examples\n",
    "    Returns:\n",
    "        - string (label)\n",
    "    '''\n",
    "    # Note the use of contexts.\n",
    "    model_inputs = encode_input_with_context(input_prompt, tokenizer, model, in_context)\n",
    "    generated_ids = model.generate(\n",
    "        **model_inputs,\n",
    "        max_new_tokens=length\n",
    "    )\n",
    "    generated_ids = [\n",
    "        output_ids[len(input_ids):] for input_ids,\n",
    "            output_ids in zip(model_inputs.input_ids, generated_ids)\n",
    "    ]\n",
    "    response = tokenizer.batch_decode(generated_ids, skip_special_tokens=True)[0]\n",
    "    return response.lower()"
   ]
  },
  {
   "cell_type": "markdown",
   "metadata": {},
   "source": [
    "This function is used to generate an in-context-learning context of size 2*K (K positives and K negatives)"
   ]
  },
  {
   "cell_type": "code",
   "execution_count": 211,
   "metadata": {},
   "outputs": [],
   "source": [
    "def generate_context(data:dict, num_per_class:int)->str:\n",
    "    '''\n",
    "    Inputs:\n",
    "        - dataset:         a datasets.DatasetDict object\n",
    "        - num_per_class:   an integer (count of examples per class)\n",
    "    Returns:\n",
    "        - a string with K positive and K negative examples (shortest examples)\n",
    "    '''\n",
    "    # We use the train partition, to ensure that the examples are disjoint\n",
    "    # from our test set:\n",
    "    df_train = pd.DataFrame(data['train'])\n",
    "    # We sort positives and negatives by length, and pick always the shortest:\n",
    "    df_train['len'] = df_train.review.apply(lambda x: len(str(x)))\n",
    "    df_pos = df_train[df_train.label==1].sort_values(by='len').head(num_per_class)\n",
    "    df_neg = df_train[df_train.label==0].sort_values(by='len').head(num_per_class)\n",
    "    # We interate over the examples to form the in context string:\n",
    "    result = \"\"\n",
    "    for index, row in df_pos.iterrows():\n",
    "        result = result + str(row['review']) + \" Positive.\\n\"\n",
    "    for index, row in df_neg.iterrows():\n",
    "        result = result + str(row['review']) + \" Negative.\\n\"\n",
    "    # We return the final context a single string:\n",
    "    return result"
   ]
  },
  {
   "cell_type": "code",
   "execution_count": 190,
   "metadata": {},
   "outputs": [],
   "source": [
    "context_k = generate_context(dataset, 5)"
   ]
  },
  {
   "cell_type": "markdown",
   "metadata": {},
   "source": [
    "We process our sample with both models, and measure for each model:\n",
    " - throughput\n",
    " - model performanace."
   ]
  },
  {
   "cell_type": "code",
   "execution_count": 192,
   "metadata": {},
   "outputs": [
    {
     "name": "stdout",
     "output_type": "stream",
     "text": [
      "Time taken: 787.3192420005798s\n"
     ]
    }
   ],
   "source": [
    "start = time.time()\n",
    "# Note the use of contexts.\n",
    "df_sample['response_m_k'] = df_sample.review.apply(\n",
    "    lambda x: generate_response_with_context(str(x), \n",
    "                                             tokenizer_m, \n",
    "                                             model_m,\n",
    "                                             context_k)\n",
    "    )\n",
    "end = time.time()\n",
    "print(f'Time taken: {end-start}s')\n",
    "med_time = end-start"
   ]
  },
  {
   "cell_type": "code",
   "execution_count": 193,
   "metadata": {},
   "outputs": [
    {
     "name": "stdout",
     "output_type": "stream",
     "text": [
      "Time taken: 411.6890079975128s\n"
     ]
    }
   ],
   "source": [
    "start = time.time()\n",
    "# Note the use of contexts.\n",
    "df_sample['response_s_k'] = df_sample.review.apply(\n",
    "    lambda x: generate_response_with_context(str(x), \n",
    "                                             tokenizer_s, \n",
    "                                             model_s,\n",
    "                                             context_k)\n",
    "    )\n",
    "end = time.time()\n",
    "print(f'Time taken: {end-start}s')\n",
    "small_time = end-start"
   ]
  },
  {
   "cell_type": "code",
   "execution_count": 194,
   "metadata": {},
   "outputs": [
    {
     "name": "stdout",
     "output_type": "stream",
     "text": [
      "Time per word for 1.5B model: 147.025493376567 words per second\n",
      "Time per word for 500 model : 281.17340456342555 words per second\n"
     ]
    }
   ],
   "source": [
    "print(f'Time per word for 1.5B model: {total_words / med_time} words per second')\n",
    "print(f'Time per word for 500 model : {total_words / small_time} words per second')"
   ]
  },
  {
   "cell_type": "code",
   "execution_count": 195,
   "metadata": {},
   "outputs": [
    {
     "name": "stdout",
     "output_type": "stream",
     "text": [
      "              precision    recall  f1-score   support\n",
      "\n",
      "    negative       0.22      0.28      0.25       250\n",
      "    positive       0.03      0.02      0.02       250\n",
      "         the       0.00      0.00      0.00         0\n",
      "\n",
      "    accuracy                           0.15       500\n",
      "   macro avg       0.08      0.10      0.09       500\n",
      "weighted avg       0.12      0.15      0.14       500\n",
      "\n"
     ]
    }
   ],
   "source": [
    "print(classification_report(df_sample.sentiment, df_sample.response_m_k, zero_division=0))"
   ]
  },
  {
   "cell_type": "code",
   "execution_count": 196,
   "metadata": {},
   "outputs": [
    {
     "name": "stdout",
     "output_type": "stream",
     "text": [
      "              precision    recall  f1-score   support\n",
      "\n",
      "       based       0.00      0.00      0.00         0\n",
      "    negative       0.33      0.30      0.32       250\n",
      "    positive       0.27      0.21      0.24       250\n",
      "         the       0.00      0.00      0.00         0\n",
      "\n",
      "    accuracy                           0.26       500\n",
      "   macro avg       0.15      0.13      0.14       500\n",
      "weighted avg       0.30      0.26      0.28       500\n",
      "\n"
     ]
    }
   ],
   "source": [
    "print(classification_report(df_sample.sentiment, df_sample.response_s_k, zero_division=0))"
   ]
  },
  {
   "cell_type": "markdown",
   "metadata": {},
   "source": [
    "### Method 4) optimizing generation parameters\n",
    "\n",
    "Until now, we have relied only on greedy decoding, for good reason. Sampling decoding, which can sometimes yield good results, at the same time is essentially non-deterministic, and will make it hard to generate consistently our two desired sentiment labels. In **sampling decoding**, rather than generating the most likely next token, we randomly pick a next token from a **transformed** next token distribution\n",
    "\n",
    "\\begin{equation}\n",
    "    c^* \\sim \\ln \\hat{P}(c|t).  \\tag{P'''}\n",
    "\\end{equation}\n",
    "\n",
    "Here we experiment with different values for a) the **temperature** $\\tau$ and b) the **topmost** $\\text{top}_k$ sampling parameters. Parameter a) can be used to \"flatten\" the next token distribution $P(c|t)$: higher values of $\\tau$ will tend to make $P(c|t)$ a uniform distribution, where any token will be as likely as any other. Thus, the higher $\\tau$, the more random sampling decoding will be.\n",
    "Parameter on the other hand b) constrains $P(c|t)$ to the topmost $k$ most likely next tokens. The lower $\\text{top}_k$, the more constrained the next token distribution. Combined, they give rise to equation (P'''). Temperature thus induces variability, whereas $\\text{top}_k$ reduces it.\n",
    "\n",
    "As we have seen in methods 2 and 3, models M1 and M2 seem to have some understanding of the task, but at the expense of higher inference costs. The expectation here is that equation (P''') boosts zero-shot accuracy figures - but with no addtional inference costs.\n",
    "\n",
    "Which is the best parameter combination is very much task-based, and is usually determined by trial and error. In order to automate this to sentiment analysis on the IMDB dataset, we first optimize these two parameters through grid search on a small set of examples, and then apply them to our test set for full comparison with the other three methods. We also relax the requirement that the model should generate either \"positive\" and \"negative\", to it generating a paraphrase, to leverage the inherent generation variation.\n",
    "\n",
    "This method performs again poorly, on a par to method 1: the accuracy observed is of 4% for both models."
   ]
  },
  {
   "cell_type": "code",
   "execution_count": 237,
   "metadata": {},
   "outputs": [],
   "source": [
    "# We plan to consider 6x6 = 36 possible combinations\n",
    "temp_values =  [0.1, 0.2, 0.4, 0.6, 0.8, 1.0]\n",
    "top_k_values = [1000, 800, 600, 400, 200, 100]"
   ]
  },
  {
   "cell_type": "code",
   "execution_count": 226,
   "metadata": {},
   "outputs": [],
   "source": [
    "def generate_sample_data(data:dict, num_per_class:int)->str:\n",
    "    '''\n",
    "    Inputs:\n",
    "        - dataset:         a dict object\n",
    "        - num_per_class:   an integer (count of examples per class)\n",
    "    Returns:\n",
    "        - a dataframe\n",
    "    '''\n",
    "    # We use the train partition, to ensure that the examples are disjoint\n",
    "    # from our test set:\n",
    "    df_train = pd.DataFrame(data['train'])\n",
    "    # We sort positives and negatives by length, and pick always the shortest:\n",
    "    df_train['len'] = df_train.review.apply(lambda x: len(str(x)))\n",
    "    df_pos = df_train[df_train.label==1].sort_values(by='len').head(num_per_class)\n",
    "    df_neg = df_train[df_train.label==0].sort_values(by='len').head(num_per_class)\n",
    "    # We return a dataframe\n",
    "    res = pd.concat([df_pos, df_neg], ignore_index=True)\n",
    "    res['sentiment'] = res['label'].map({0:'negative', 1:'positive'})\n",
    "    return res"
   ]
  },
  {
   "cell_type": "code",
   "execution_count": 253,
   "metadata": {},
   "outputs": [],
   "source": [
    "# We'll use a (balanced) sample of 40 examples to optimize parameters:\n",
    "df_small_sample = generate_sample_data(dataset, 20)"
   ]
  },
  {
   "cell_type": "code",
   "execution_count": 299,
   "metadata": {},
   "outputs": [],
   "source": [
    "# Uncomment to visualize distribution\n",
    "# df_small_sample.sentiment.value_counts()"
   ]
  },
  {
   "cell_type": "code",
   "execution_count": 324,
   "metadata": {},
   "outputs": [],
   "source": [
    "def generate_response_with_sampling(input_prompt:str,\n",
    "                      tokenizer:transformers.AutoTokenizer,\n",
    "                      model:transformers.AutoModelForCausalLM,\n",
    "                      top_k:float,\n",
    "                      temp:float,\n",
    "                      length:int=1\n",
    "                     )->str:\n",
    "    '''\n",
    "    Function for generating responses\n",
    "\n",
    "    Arguments:\n",
    "        - input_prompt:  query string\n",
    "        - tokenizer:     AutoTokenizer object\n",
    "        - model:         AutoModelForCausalLM object\n",
    "        - top_k:         top k value (float)\n",
    "        - temp:          temperature value (float)\n",
    "        - length:        integer used to cap the length of the output sequence (1 token or word by default)\n",
    "    Returns:\n",
    "        - string (label)\n",
    "    '''\n",
    "    # We encode inputs into a tensor. We re-use the zero-shot function.\n",
    "    model_inputs = encode_input_zero(input_prompt, tokenizer, model)\n",
    "    # We use greedy decoding to generate the labels.\n",
    "    generated_ids = model.generate(\n",
    "        **model_inputs,\n",
    "        max_new_tokens=length,\n",
    "        temperature=temp,\n",
    "        top_k=top_k\n",
    "    )\n",
    "    # We decode the returned tensor into a string and\n",
    "    # Return it lower-cased and stripped of whitespaces.\n",
    "    generated_ids = [\n",
    "        output_ids[len(input_ids):] for input_ids,\n",
    "            output_ids in zip(model_inputs.input_ids, generated_ids)\n",
    "    ]\n",
    "    response = tokenizer.batch_decode(generated_ids, skip_special_tokens=True)[0]\n",
    "    return response.lower().strip()"
   ]
  },
  {
   "cell_type": "code",
   "execution_count": 323,
   "metadata": {},
   "outputs": [],
   "source": [
    "def grid_search(sample:pd.DataFrame, \n",
    "                tokenizer:transformers.AutoTokenizer,\n",
    "                model:transformers.AutoModelForCausalLM,               \n",
    "                top_k_v:list, \n",
    "                temp_v:list)->dict:\n",
    "    '''\n",
    "    Grid search over |temperatures| x |top_k_values| combinations.\n",
    "\n",
    "    Arguments:\n",
    "        - tokenizer:   tokenizer object as above\n",
    "        - model:       model object as above\n",
    "        - temp_v:      list of temperatures\n",
    "        - top_k_v:     list of top_k values\n",
    "    Returns:\n",
    "        - dictionary of scores\n",
    "    '''\n",
    "    # We save results in a dictionary (for a given model and sample \n",
    "    # combination) with entries of form:\n",
    "    #\n",
    "    #     (temp, top_k): accuracy\n",
    "    # \n",
    "    results = {}\n",
    "    for temp in temp_v:\n",
    "        for top_k in top_k_v:\n",
    "            key = str((temp, top_k))\n",
    "            result = sample.review.apply(lambda x: \n",
    "                            generate_response_with_sampling(str(x), \n",
    "                                                            tokenizer_m, \n",
    "                                                            model_m, \n",
    "                                                            top_k, \n",
    "                                                            temp))\n",
    "            acc = accuracy(sample.sentiment, result)\n",
    "            results[key] = acc\n",
    "    # We return the dictionary sorted (asc. order) by accuracy,\n",
    "    # with **the last entry being the optimal combination**.\n",
    "    results = dict(sorted(results.items(), key=lambda item: item[1]))\n",
    "    return results"
   ]
  },
  {
   "cell_type": "code",
   "execution_count": 262,
   "metadata": {},
   "outputs": [
    {
     "name": "stdout",
     "output_type": "stream",
     "text": [
      "Time taken: 312.8239450454712s\n"
     ]
    }
   ],
   "source": [
    "start = time.time()\n",
    "grid_med = grid_search(df_small_sample, tokenizer_m, model_m, top_k_values, temp_values)\n",
    "end = time.time()\n",
    "print(f'Time taken: {end-start}s')"
   ]
  },
  {
   "cell_type": "code",
   "execution_count": 263,
   "metadata": {},
   "outputs": [
    {
     "name": "stdout",
     "output_type": "stream",
     "text": [
      "Time taken: 1234.0347611904144s\n"
     ]
    }
   ],
   "source": [
    "start = time.time()\n",
    "grid_small = grid_search(df_small_sample, tokenizer_s, model_s, top_k_values, temp_values)\n",
    "end = time.time()\n",
    "print(f'Time taken: {end-start}s')"
   ]
  },
  {
   "cell_type": "code",
   "execution_count": 276,
   "metadata": {},
   "outputs": [
    {
     "name": "stdout",
     "output_type": "stream",
     "text": [
      "[1.5B] Maximum accuracy with (temp, top_k) (1.0, 1000): 0.075\n"
     ]
    }
   ],
   "source": [
    "print(f'[1.5B] Maximum accuracy with (temp, top_k) {list(grid_med.keys())[-1]}: {grid_med[list(grid_med.keys())[-1]]}')"
   ]
  },
  {
   "cell_type": "code",
   "execution_count": 275,
   "metadata": {},
   "outputs": [
    {
     "name": "stdout",
     "output_type": "stream",
     "text": [
      "[500M] Maximum accuracy with (temp, top_k) (1.0, 100): 0.075\n"
     ]
    }
   ],
   "source": [
    "print(f'[500M] Maximum accuracy with (temp, top_k) {list(grid_small.keys())[-1]}: {grid_small[list(grid_small.keys())[-1]]}')"
   ]
  },
  {
   "cell_type": "markdown",
   "metadata": {},
   "source": [
    "Now that we know the optimal paramaters, we apply inference on our full test set:"
   ]
  },
  {
   "cell_type": "code",
   "execution_count": 277,
   "metadata": {},
   "outputs": [
    {
     "name": "stdout",
     "output_type": "stream",
     "text": [
      "Time taken: 365.57404017448425s\n"
     ]
    }
   ],
   "source": [
    "start = time.time()\n",
    "df_sample['response_m_samp'] = df_sample.review.apply(\n",
    "    lambda x: generate_response_with_sampling(str(x), \n",
    "                                              tokenizer_m, \n",
    "                                              model_m, \n",
    "                                              top_k=1000, \n",
    "                                              temp=1.0))\n",
    "end = time.time()\n",
    "print(f'Time taken: {end-start}s')\n",
    "med_time = end-start"
   ]
  },
  {
   "cell_type": "code",
   "execution_count": 278,
   "metadata": {},
   "outputs": [
    {
     "name": "stdout",
     "output_type": "stream",
     "text": [
      "Time taken: 141.10632586479187s\n"
     ]
    }
   ],
   "source": [
    "start = time.time()\n",
    "df_sample['response_s_samp'] = df_sample.review.apply(\n",
    "    lambda x: generate_response_with_sampling(str(x), \n",
    "                                              tokenizer_s, \n",
    "                                              model_s, \n",
    "                                              top_k=100, \n",
    "                                              temp=1.0))\n",
    "end = time.time()\n",
    "print(f'Time taken: {end-start}s')\n",
    "small_time = end-start"
   ]
  },
  {
   "cell_type": "code",
   "execution_count": 279,
   "metadata": {},
   "outputs": [
    {
     "name": "stdout",
     "output_type": "stream",
     "text": [
      "Time per word for 1.5B model: 316.64173950850284 words per second\n",
      "Time per word for 500 model : 820.3459291464894 words per second\n"
     ]
    }
   ],
   "source": [
    "print(f'Time per word for 1.5B model: {total_words / med_time} words per second')\n",
    "print(f'Time per word for 500 model : {total_words / small_time} words per second')"
   ]
  },
  {
   "cell_type": "code",
   "execution_count": 280,
   "metadata": {},
   "outputs": [
    {
     "name": "stdout",
     "output_type": "stream",
     "text": [
      "              precision    recall  f1-score   support\n",
      "\n",
      "       based       0.00      0.00      0.00         0\n",
      "    negative       0.06      0.05      0.05       250\n",
      "    positive       0.04      0.03      0.04       250\n",
      "         the       0.00      0.00      0.00         0\n",
      "          to       0.00      0.00      0.00         0\n",
      "\n",
      "    accuracy                           0.04       500\n",
      "   macro avg       0.02      0.02      0.02       500\n",
      "weighted avg       0.05      0.04      0.05       500\n",
      "\n"
     ]
    }
   ],
   "source": [
    "print(classification_report(df_sample.sentiment, df_sample.response_m_samp, zero_division=0))"
   ]
  },
  {
   "cell_type": "code",
   "execution_count": 281,
   "metadata": {
    "scrolled": true
   },
   "outputs": [
    {
     "name": "stdout",
     "output_type": "stream",
     "text": [
      "              precision    recall  f1-score   support\n",
      "\n",
      "       based       0.00      0.00      0.00         0\n",
      "           i       0.00      0.00      0.00         0\n",
      "    negative       0.09      0.02      0.03       250\n",
      "    positive       0.12      0.07      0.09       250\n",
      "         the       0.00      0.00      0.00         0\n",
      "        this       0.00      0.00      0.00         0\n",
      "\n",
      "    accuracy                           0.04       500\n",
      "   macro avg       0.04      0.01      0.02       500\n",
      "weighted avg       0.11      0.04      0.06       500\n",
      "\n"
     ]
    }
   ],
   "source": [
    "print(classification_report(df_sample.sentiment, df_sample.response_s_samp, zero_division=0))"
   ]
  },
  {
   "cell_type": "markdown",
   "metadata": {},
   "source": [
    "-----\n",
    "### Method 5) chain-of-thought experiment\n",
    "\n",
    "In this experiment, we try out a 3-hop **chain of thought** (CoT) reasoning inspired by the paper\n",
    "[Reasoning Implicit Sentiment with Chain-of-Thought Prompting](https://arxiv.org/pdf/2305.11255).\n",
    "In CoT a sequence of input prompts $t_1,\\dots,t_n$ are fed into the LLM, each referring back to prior \n",
    "prompts, giving rise to a chain of (connected) zero-shot (greedy) predictions:\n",
    "\n",
    "\\begin{eqnarray}\n",
    "    c_1 & = & \\text{argmax}_{c \\in V} \\ln P(c|t)\\\\\n",
    "    c_2 & = & \\text{argmax}_{c \\in V} \\ln P(c|t, c_1)\\tag{P''''}\\\\\n",
    "        & \\vdots&\\\\\n",
    "    c^* & = & \\text{argmax}_{c \\in V} \\ln P(c|t, c_{n-1})\n",
    "\\end{eqnarray}\n",
    "\n",
    "The intuition here is that sometimes, a decision (e.g. a classification decision) is the result of a chain\n",
    "of prior decisions, each extracting lower level \"features\" that help the model understand better the task. This method works best,\n",
    "the larger the LLMs.\n",
    "\n",
    "In this experiment, we will be using a sequence of $n=3$, embedding the reponse to prompt $t_{i-1}$ into $t_i$. The idea is\n",
    "to first ask the LLM for an aspect given the imput prompt $t$. Next, for an implicit opinion, given $t$ and its aspect. Finally, for the sentiment, given $t$, its aspect and implicit opinion. Also, we enlarge the size of the expected returned sequence from 1 to 10 tokens, to check if allowing for paraphrases of **negative** or **positive** increases performance on the current top performing methods: method 2) or method 3). This method will increase inference time by a ~3x factor, as we need to call the LLM 3 times, for each model.\n",
    "\n",
    "The sequence of prompts used is the following. Given an input prompt `T` (an IMDB review), we start \n",
    "by asking for aspect:\n",
    "```\n",
    "\"Given the text: '\" + T + \"' Which specific aspect is being mentioned? The specific aspect is\"\n",
    "```\n",
    "with answer `C`. We then ask for an implicit opinion:\n",
    "```\n",
    "\"Given the text: '\" + T + \"' and the aspect '\" + C  + \"' Based on common sense,\n",
    "what is the implicit opinion towards this aspect? The opinion is\"\n",
    "```\n",
    "with answer `C'`. As final prompt we ask for sentiment:\n",
    "```\n",
    "\"Given the text: '\" + T + \"' the apect '\" + C + \"' and the opinion '\" + C' + \"' What would be the\n",
    "sentiment expressed? Negative or Positive?\"\n",
    "```\n",
    "This method shows the lowest performance, 4% vs 2% for models M1 and M2, respectively."
   ]
  },
  {
   "cell_type": "code",
   "execution_count": 331,
   "metadata": {},
   "outputs": [],
   "source": [
    "def process_input_cot(input_prompt:str,\n",
    "                 tokenizer:transformers.AutoTokenizer,\n",
    "                 model:transformers.AutoModelForCausalLM,\n",
    "                 length:int=10)->torch.Tensor:\n",
    "    '''\n",
    "    Function for COT sentiment inference\n",
    "\n",
    "    Arguments:\n",
    "        - input_prompt:  input query string\n",
    "        - tokenizer:     AutoTokenizer object\n",
    "        - model:         AutoModelForCausalLM object\n",
    "        - length:        max length of generation (integer)\n",
    "    Returns:\n",
    "        - result:        a generated string\n",
    "    '''\n",
    "\n",
    "    # 1st element of chain\n",
    "    message_1 = [\n",
    "        {\"role\": \"system\", \"content\":\n",
    "           \"You are Qwen, created by Alibaba Cloud. You are a helpful assistant.\"},\n",
    "        {\"role\": \"user\", \"content\":\n",
    "         \"Given the text: '\" + input_prompt + \n",
    "         \"' Which specific aspect is being mentioned? The specific aspect is\"}\n",
    "    ]\n",
    "    text_1 = tokenizer.apply_chat_template(\n",
    "        message_1,\n",
    "        tokenize=False,\n",
    "        add_generation_prompt=True\n",
    "    )\n",
    "    tokens_1 = tokenizer([text_1],\n",
    "                      return_tensors = 'pt'\n",
    "                    ).to(model.device)\n",
    "    generated_ids_1 = model.generate(\n",
    "        **tokens_1,\n",
    "        max_new_tokens=length\n",
    "    )\n",
    "    generated_ids_1 = [\n",
    "        output_ids_1[len(input_ids_1):] for input_ids_1,\n",
    "            output_ids_1 in zip(tokens_1.input_ids, generated_ids_1)\n",
    "    ]\n",
    "    response_1 = tokenizer.batch_decode(generated_ids_1, skip_special_tokens=True)[0]\n",
    "\n",
    "    # 2nd element of chain\n",
    "    message_2 = [\n",
    "        {\"role\": \"system\", \"content\":\n",
    "           \"You are Qwen, created by Alibaba Cloud. You are a helpful assistant.\"},\n",
    "        {\"role\": \"user\", \"content\":\n",
    "            \"Given the text: '\"  + input_prompt + \n",
    "            \"' and the aspect '\" + response_1   + \n",
    "            \"' Based on common sense, what is the implicit opinion towards this aspect? The opinion is\"}\n",
    "    ]\n",
    "    text_2 = tokenizer.apply_chat_template(\n",
    "        message_2,\n",
    "        tokenize=False,\n",
    "        add_generation_prompt=True\n",
    "    )\n",
    "    tokens_2 = tokenizer([text_2],\n",
    "                      return_tensors = 'pt'\n",
    "                    ).to(model.device)\n",
    "    generated_ids_2 = model.generate(\n",
    "        **tokens_2,\n",
    "        max_new_tokens=length\n",
    "    )\n",
    "    generated_ids_2 = [\n",
    "        output_ids_2[len(input_ids_2):] for input_ids_2,\n",
    "            output_ids_2 in zip(tokens_2.input_ids, generated_ids_2)\n",
    "    ]\n",
    "    response_2 = tokenizer.batch_decode(generated_ids_2, skip_special_tokens=True)[0]\n",
    "\n",
    "    # Final element of chain\n",
    "    message_3 = [\n",
    "        {\"role\": \"system\", \"content\":\n",
    "           \"You are Qwen, created by Alibaba Cloud. You are a helpful assistant.\"},\n",
    "        {\"role\": \"user\", \"content\":\n",
    "            \"Given the text: '\"   + input_prompt + \n",
    "            \"' the apect '\"       + response_1   +\n",
    "            \"' and the opinion '\" + response_2   +\n",
    "            \"' What would be the sentiment expressed? Negative or Positive?\"}\n",
    "    ]\n",
    "    text_3 = tokenizer.apply_chat_template(\n",
    "        message_3,\n",
    "        tokenize=False,\n",
    "        add_generation_prompt=True\n",
    "    )\n",
    "    tokens_3 = tokenizer([text_3],\n",
    "                      return_tensors = 'pt'\n",
    "                    ).to(model.device)\n",
    "    generated_ids_3 = model.generate(\n",
    "        **tokens_3,\n",
    "        max_new_tokens=length\n",
    "    )\n",
    "    generated_ids_3 = [\n",
    "        output_ids_3[len(input_ids_3):] for input_ids_3,\n",
    "            output_ids_3 in zip(tokens_3.input_ids, generated_ids_3)\n",
    "    ]\n",
    "    response_3 = tokenizer.batch_decode(generated_ids_3, skip_special_tokens=True)[0]\n",
    "\n",
    "    # We return the COT final output\n",
    "    return response_3"
   ]
  },
  {
   "cell_type": "code",
   "execution_count": 335,
   "metadata": {},
   "outputs": [],
   "source": [
    "def mine_response_cot(response:str)->str:\n",
    "    '''\n",
    "    Now the models may return complete phrases or short sentences.\n",
    "    We thus implement a method that infers the polarity of the generated\n",
    "    string.\n",
    "\n",
    "    Arguments:\n",
    "        - response:      generated text\n",
    "    Returns:\n",
    "        - label:         predicted string (negative, positive or NaN)\n",
    "    '''\n",
    "    if 'positive' in response.lower() or 'good' in response.lower() or 'great' in response.lower():\n",
    "        return 'positive'\n",
    "    elif 'negative' in response.lower() or 'bad' in response.lower() or 'terrible' in response.lower():\n",
    "        return 'negative'\n",
    "    else:\n",
    "        return 'NaN'"
   ]
  },
  {
   "cell_type": "code",
   "execution_count": 336,
   "metadata": {},
   "outputs": [],
   "source": [
    "def get_sentiment_cot(input_prompt:str,\n",
    "                 tokenizer:transformers.AutoTokenizer,\n",
    "                 model:transformers.AutoModelForCausalLM,\n",
    "                 length:int=10)->str:\n",
    "    '''\n",
    "    This function combines `mine_response_cot` with\n",
    "    `process_input_cot`\n",
    "    \n",
    "    Arguments:\n",
    "        - input_prompt:  input query string\n",
    "        - tokenizer:     AutoTokenizer object\n",
    "        - model:         AutoModelForCausalLM object\n",
    "        - length:        max length of generation (integer)\n",
    "    Returns:\n",
    "        - result:        string label (positive, negative or NaN)\n",
    "    '''\n",
    "    raw_response = process_input_cot(input_prompt, tokenizer, model)\n",
    "    response = mine_response_cot(raw_response)\n",
    "    return response"
   ]
  },
  {
   "cell_type": "code",
   "execution_count": 337,
   "metadata": {},
   "outputs": [
    {
     "name": "stdout",
     "output_type": "stream",
     "text": [
      "Time taken: 2623.8734130859375s\n"
     ]
    }
   ],
   "source": [
    "start = time.time()\n",
    "df_sample['response_m_cot'] = df_sample.review.apply(\n",
    "    lambda x: get_sentiment_cot(str(x), \n",
    "                                tokenizer_m, \n",
    "                                model_m))\n",
    "end = time.time()\n",
    "print(f'Time taken: {end-start}s')"
   ]
  },
  {
   "cell_type": "code",
   "execution_count": 338,
   "metadata": {},
   "outputs": [
    {
     "name": "stdout",
     "output_type": "stream",
     "text": [
      "Time taken: 1431.9083921909332s\n"
     ]
    }
   ],
   "source": [
    "start = time.time()\n",
    "df_sample['response_s_cot'] = df_sample.review.apply(\n",
    "    lambda x: get_sentiment_cot(str(x), \n",
    "                                tokenizer_s, \n",
    "                                model_s))\n",
    "end = time.time()\n",
    "print(f'Time taken: {end-start}s')"
   ]
  },
  {
   "cell_type": "code",
   "execution_count": 344,
   "metadata": {},
   "outputs": [],
   "source": [
    "med_time = 2623.8734130859375\n",
    "small_time = 1431.9083921909332"
   ]
  },
  {
   "cell_type": "code",
   "execution_count": 345,
   "metadata": {},
   "outputs": [
    {
     "name": "stdout",
     "output_type": "stream",
     "text": [
      "Time per word for 1.5B model: 44.116457532857645 words per second\n",
      "Time per word for 500 model : 80.84036704532764 words per second\n"
     ]
    }
   ],
   "source": [
    "print(f'Time per word for 1.5B model: {total_words / med_time} words per second')\n",
    "print(f'Time per word for 500 model : {total_words / small_time} words per second')"
   ]
  },
  {
   "cell_type": "code",
   "execution_count": 340,
   "metadata": {},
   "outputs": [
    {
     "name": "stdout",
     "output_type": "stream",
     "text": [
      "              precision    recall  f1-score   support\n",
      "\n",
      "         NaN       0.00      0.00      0.00         0\n",
      "    negative       0.12      0.08      0.09       250\n",
      "    positive       0.02      0.01      0.02       250\n",
      "\n",
      "    accuracy                           0.04       500\n",
      "   macro avg       0.05      0.03      0.04       500\n",
      "weighted avg       0.07      0.04      0.05       500\n",
      "\n"
     ]
    }
   ],
   "source": [
    "print(classification_report(df_sample.sentiment, df_sample.response_m_cot, zero_division=0))"
   ]
  },
  {
   "cell_type": "code",
   "execution_count": 341,
   "metadata": {},
   "outputs": [
    {
     "name": "stdout",
     "output_type": "stream",
     "text": [
      "              precision    recall  f1-score   support\n",
      "\n",
      "         NaN       0.00      0.00      0.00         0\n",
      "    negative       0.08      0.02      0.03       250\n",
      "    positive       0.06      0.03      0.04       250\n",
      "\n",
      "    accuracy                           0.02       500\n",
      "   macro avg       0.05      0.02      0.02       500\n",
      "weighted avg       0.07      0.02      0.04       500\n",
      "\n"
     ]
    }
   ],
   "source": [
    "print(classification_report(df_sample.sentiment, df_sample.response_s_cot, zero_division=0))"
   ]
  },
  {
   "cell_type": "markdown",
   "metadata": {},
   "source": [
    "--------------\n",
    "## Discussion and error analysis\n",
    "\n",
    "We summarize our results in a table (see the appendix for a plot):\n",
    "\n",
    "|                    |  Medium_zero | Small_zero|  Medium_5_shot | Medium_5_shot | Medium_log | Small_log |\n",
    "|------------------- |------------- |-----------|--------------- | --------------|------------|-----------|\n",
    "|Accuracy            | 0.04         | 0.03      | 0.15           | 0.26          | 0.10       | 0.29      |\n",
    "|Throughput (words/s)| 229/s        | 375/s     | 147/s          | 281/s         |  136/s     | 286/s     |\n",
    "\n",
    "\n",
    "|                    | Medium_samp | Small_samp| Medium_CoT | Small_CoT |\n",
    "|------------------- |-------------|-----------|------------|-----------|\n",
    "|Accuracy            |  0.04       | 0.04      |     0.04   | 0.02      |\n",
    "|Throughput (words/s)|  317/s      | 820/s     |     81/s   | 44/s      |\n",
    "\n",
    "As expected, inference time for the 1.5B parameter model is ~3x longer than for the 500M model (as inference is linear in parameter size for transformers), and the log-lihelihood prediction/inference method yields a ~2x additional increase in inference time. Interestingly, 5-shot classification, also increased inference time by close to ~2x, due to the increase in the input prompt size (presumably due to the quadratic runtime of transformers on input sequences).\n",
    "\n",
    "As expected, the 1.5B parameter model has better (if extremely low) accuracy than the 500M model on method 1: zero shot classification (4% vs 3%). But, interestingly, the rank reverses when we switch to method 2: log-likelihood (10% vs. 29%) or method 3: 5-shot classification (15% vs. 26%). Log-likelihood queries increase accuracy by a $\\Delta$ of 0.26 accuracy points (~10x increase), and 5-shot queries by 0.23. \n",
    "\n",
    "Method 4: sampling gives rise to a substantial increase in throughput (almost ~2x w.r.t. zero-shot), but no real increase in accuracy (4% for both models) w.r.t. in-context learning or log-likelihood queries. Surprisingly, method 5: CoT by doesn't improve on any of the methods either.\n",
    "\n",
    "Zero shot and K-shot prompts of the kind used in this experiment, tend to hallucinate a lot, and generate many continuations other than the desired words **positive** or **negative** (in this experiment: **to**,  **the** and **based**). This situation is avoided when using the method 2, that constraints the space of predicted sentiment labels to the desired set. Sampling increases the space of predicted labels, as expected.\n",
    "\n",
    "We hypothetize that the (rather disappointing) results seen are partly due to very small size of the Qwen2.5 models evaluated here. Indeed, the HuggingFace [LLM leaderboard](https://huggingface.co/spaces/open-llm-leaderboard/open_llm_leaderboard) reports a log-likelihood classification performance of ~7-10% for both models across the MMLU benchmarks (a set of classification benchmarks covering multiple scientific domains) -- consistent with the results observed here. But a ~52% accuracy for its 32B version.\n",
    "\n",
    "We can't really explain why the 500M model outperformed the larger 1.5B model with methods 2 and 3 on our IMDB test set. One possible hypothesis could be that for some reason, it fitted better the movie domain than the larger model -at the expense of underperforming elsewhere. A rigourous statistical (factor) analysis would be ultimately required to clarify this question. But this lies beyond the scope of this simple exercise.\n",
    "\n",
    "Lastly, we visualize prediction confusions. One thing worth observing is the low agreement of both models across most methods, with the exception of method 2), where we see that both the 1.5B and the 500M model produce similar predictions (moderate agreement in the order of 74% -- see the appendix for more details)."
   ]
  },
  {
   "cell_type": "code",
   "execution_count": 316,
   "metadata": {},
   "outputs": [],
   "source": [
    "def confusion_matrix(actual:pd.Series, predicted:pd.Series)->None:\n",
    "    '''\n",
    "    Function to display confusion matrix plot\n",
    "\n",
    "    Arguments:\n",
    "        - actual:    actual values\n",
    "        - predicted: predicted values\n",
    "    '''\n",
    "    confusion_matrix = metrics.confusion_matrix(actual, predicted)\n",
    "    cm_display = metrics.ConfusionMatrixDisplay(confusion_matrix=confusion_matrix,\n",
    "                display_labels=set(predicted.values))\n",
    "    cm_display.plot()"
   ]
  },
  {
   "cell_type": "code",
   "execution_count": 317,
   "metadata": {},
   "outputs": [
    {
     "data": {
      "image/png": "[encoded data removed]",
      "text/plain": [
       "<Figure size 640x480 with 2 Axes>"
      ]
     },
     "metadata": {},
     "output_type": "display_data"
    }
   ],
   "source": [
    "confusion_matrix(df_sample.sentiment, df_sample.response_m)"
   ]
  },
  {
   "cell_type": "code",
   "execution_count": 134,
   "metadata": {},
   "outputs": [
    {
     "data": {
      "image/png": "[encoded data removed]",
      "text/plain": [
       "<Figure size 640x480 with 2 Axes>"
      ]
     },
     "metadata": {},
     "output_type": "display_data"
    }
   ],
   "source": [
    "confusion_matrix(df_sample.sentiment, df_sample.response_s)"
   ]
  },
  {
   "cell_type": "code",
   "execution_count": 135,
   "metadata": {},
   "outputs": [
    {
     "data": {
      "image/png": "[encoded data removed]",
      "text/plain": [
       "<Figure size 640x480 with 2 Axes>"
      ]
     },
     "metadata": {},
     "output_type": "display_data"
    }
   ],
   "source": [
    "confusion_matrix(df_sample.sentiment, df_sample.response_m_log)"
   ]
  },
  {
   "cell_type": "code",
   "execution_count": 136,
   "metadata": {},
   "outputs": [
    {
     "data": {
      "image/png": "[encoded data removed]",
      "text/plain": [
       "<Figure size 640x480 with 2 Axes>"
      ]
     },
     "metadata": {},
     "output_type": "display_data"
    }
   ],
   "source": [
    "confusion_matrix(df_sample.sentiment, df_sample.response_s_log)"
   ]
  },
  {
   "cell_type": "code",
   "execution_count": 197,
   "metadata": {},
   "outputs": [
    {
     "data": {
      "image/png": "[encoded data removed]",
      "text/plain": [
       "<Figure size 640x480 with 2 Axes>"
      ]
     },
     "metadata": {},
     "output_type": "display_data"
    }
   ],
   "source": [
    "confusion_matrix(df_sample.sentiment, df_sample.response_m_k)"
   ]
  },
  {
   "cell_type": "code",
   "execution_count": 198,
   "metadata": {},
   "outputs": [
    {
     "data": {
      "image/png": "[encoded data removed]",
      "text/plain": [
       "<Figure size 640x480 with 2 Axes>"
      ]
     },
     "metadata": {},
     "output_type": "display_data"
    }
   ],
   "source": [
    "confusion_matrix(df_sample.sentiment, df_sample.response_s_k)"
   ]
  },
  {
   "cell_type": "code",
   "execution_count": 282,
   "metadata": {},
   "outputs": [
    {
     "data": {
      "image/png": "[encoded data removed]",
      "text/plain": [
       "<Figure size 640x480 with 2 Axes>"
      ]
     },
     "metadata": {},
     "output_type": "display_data"
    }
   ],
   "source": [
    "confusion_matrix(df_sample.sentiment, df_sample.response_m_samp)"
   ]
  },
  {
   "cell_type": "code",
   "execution_count": 283,
   "metadata": {},
   "outputs": [
    {
     "data": {
      "image/png": "[encoded data removed]",
      "text/plain": [
       "<Figure size 640x480 with 2 Axes>"
      ]
     },
     "metadata": {},
     "output_type": "display_data"
    }
   ],
   "source": [
    "confusion_matrix(df_sample.sentiment, df_sample.response_s_samp)"
   ]
  },
  {
   "cell_type": "code",
   "execution_count": 342,
   "metadata": {},
   "outputs": [
    {
     "data": {
      "image/png": "[encoded data removed]",
      "text/plain": [
       "<Figure size 640x480 with 2 Axes>"
      ]
     },
     "metadata": {},
     "output_type": "display_data"
    }
   ],
   "source": [
    "confusion_matrix(df_sample.sentiment, df_sample.response_m_cot)"
   ]
  },
  {
   "cell_type": "code",
   "execution_count": 343,
   "metadata": {},
   "outputs": [
    {
     "data": {
      "image/png": "[encoded data removed]",
      "text/plain": [
       "<Figure size 640x480 with 2 Axes>"
      ]
     },
     "metadata": {},
     "output_type": "display_data"
    }
   ],
   "source": [
    "confusion_matrix(df_sample.sentiment, df_sample.response_s_cot)"
   ]
  },
  {
   "cell_type": "markdown",
   "metadata": {},
   "source": [
    "-----------\n",
    "## Appendix - accuracy and agreement plots\n",
    "\n",
    "In this appendix we generate a bar plot of each model-method accuracy score summarized in the table above.\n",
    "\n",
    "We also measure pairwise agreement scores among the different model-method predictions. We use macro F1-score for this purpose.\n",
    "As observed on the confusion matrixes, this score reaches its maximum when comparing model predictions using method 2 (log-likelihood queries),\n",
    "viz. 73%, indicating moderate agreement between the 1.5B and 500M models in this setting (for strong agreement a score $\\geq$ 80% would be required).\n"
   ]
  },
  {
   "cell_type": "code",
   "execution_count": 503,
   "metadata": {},
   "outputs": [],
   "source": [
    "# We create a dataframe of accuracy scores, for each model-method pair\n",
    "acc_list = [\n",
    "{'model': 'medium_zero',   'acc': accuracy(df_sample.sentiment, df_sample.response_m)},\n",
    "{'model': 'small_zero',    'acc': accuracy(df_sample.sentiment, df_sample.response_s)},\n",
    "{'model': 'medium_log' ,   'acc': accuracy(df_sample.sentiment, df_sample.response_m_log)},\n",
    "{'model': 'small_log',     'acc': accuracy(df_sample.sentiment, df_sample.response_s_log)},\n",
    "{'model': 'medium_5_shot', 'acc': accuracy(df_sample.sentiment, df_sample.response_m_k)},\n",
    "{'model': 'small_5_shot',  'acc': accuracy(df_sample.sentiment, df_sample.response_s_k)},\n",
    "{'model': 'medium_samp',   'acc': accuracy(df_sample.sentiment, df_sample.response_m_samp)},\n",
    "{'model': 'small_samp',    'acc': accuracy(df_sample.sentiment, df_sample.response_s_samp)},\n",
    "{'model': 'medium_cot' ,   'acc': accuracy(df_sample.sentiment, df_sample.response_m_cot)},\n",
    "{'model': 'small_cot',     'acc': accuracy(df_sample.sentiment, df_sample.response_s_cot)}\n",
    "]\n",
    "# Dataframe of scores\n",
    "acc_scores = pd.DataFrame(acc_list)"
   ]
  },
  {
   "cell_type": "code",
   "execution_count": 504,
   "metadata": {},
   "outputs": [],
   "source": [
    "def plot_accuracy(scores:pd.DataFrame)->None:\n",
    "    '''\n",
    "    Function to display accuracy\n",
    "\n",
    "    Arguments:\n",
    "        - scores:    DataFrame of scores\n",
    "    '''\n",
    "    plt.bar(scores.model, scores.acc)\n",
    "    plt.xlabel('Models')\n",
    "    plt.ylabel('Accuracy')\n",
    "    plt.xticks(range(0,scores.shape[0]+10), rotation=70, fontsize=8)\n",
    "    plt.margins(0.05)\n",
    "    plt.title('Accuracy Distribution')\n",
    "    plt.show()"
   ]
  },
  {
   "cell_type": "code",
   "execution_count": 511,
   "metadata": {},
   "outputs": [
    {
     "data": {
      "image/png": "[encoded data removed]",
      "text/plain": [
       "<Figure size 640x480 with 1 Axes>"
      ]
     },
     "metadata": {},
     "output_type": "display_data"
    }
   ],
   "source": [
    "# Generate plot.\n",
    "plot_accuracy(acc_scores)"
   ]
  },
  {
   "cell_type": "code",
   "execution_count": 508,
   "metadata": {},
   "outputs": [],
   "source": [
    "# Now, we create a N-by-N matrix of agreement scores for each of the N model-method pairs.\n",
    "pred_list = [\n",
    "{'model': 'medium_zero',   'pred': df_sample.response_m},\n",
    "{'model': 'small_zero',    'pred': df_sample.sentiment},\n",
    "{'model': 'medium_log' ,   'pred': df_sample.response_m_log},\n",
    "{'model': 'small_log',     'pred': df_sample.response_s_log},\n",
    "{'model': 'medium_5_shot', 'pred': df_sample.response_m_k},\n",
    "{'model': 'small_5_shot',  'pred': df_sample.response_s_k},\n",
    "{'model': 'medium_samp',   'pred': df_sample.response_m_samp},\n",
    "{'model': 'small_samp',    'pred': df_sample.response_s_samp},\n",
    "{'model': 'medium_cot' ,   'pred': df_sample.response_m_cot},\n",
    "{'model': 'small_cot',     'pred': df_sample.response_s_cot}\n",
    "]\n",
    "# Create table\n",
    "agg_table = np.zeros((len(pred_list), len(pred_list)))\n",
    "labels = []\n",
    "for i in range(0, len(pred_list)):\n",
    "    labels.append(pred_list[i]['model'])\n",
    "    for j in range(i+1, len(pred_list)):\n",
    "        agg_table[i,j] = agreement(pred_list[i]['pred'], \n",
    "                                   pred_list[j]['pred'], \n",
    "                                   average='macro', \n",
    "                                   zero_division=0)"
   ]
  },
  {
   "cell_type": "code",
   "execution_count": 509,
   "metadata": {},
   "outputs": [],
   "source": [
    "def plot_agreement(scores:np.array, labels:list)->None:\n",
    "    '''\n",
    "    Function to display agreement scores\n",
    "\n",
    "    Arguments:\n",
    "        - scores:    array of scores\n",
    "        - labels:    list of labels\n",
    "    '''\n",
    "    plt.imshow(scores) \n",
    "    plt.yticks(range(0,len(labels)), labels, fontsize=8)\n",
    "    plt.xticks(range(0,len(labels)), labels, fontsize=8, rotation=90)\n",
    "    # Loop over data dimensions to paste scores.\n",
    "    for i in range(len(labels)):\n",
    "        for j in range(i+1,len(labels)):\n",
    "            text = plt.text(j, i, \"%.2f\" % scores[i, j],\n",
    "                           ha=\"center\", va=\"center\", color=\"w\", fontsize=8)\n",
    "    plt.margins(0.05)\n",
    "    plt.title('Model Pairwise Agreement Scores')\n",
    "    plt.show()"
   ]
  },
  {
   "cell_type": "code",
   "execution_count": 510,
   "metadata": {},
   "outputs": [
    {
     "data": {
      "image/png": "[encoded data removed]",
      "text/plain": [
       "<Figure size 640x480 with 1 Axes>"
      ]
     },
     "metadata": {},
     "output_type": "display_data"
    }
   ],
   "source": [
    "# Generate plot.\n",
    "plot_agreement(agg_table, labels)"
   ]
  },
  {
   "cell_type": "code",
   "execution_count": null,
   "metadata": {},
   "outputs": [],
   "source": []
  }
 ],
 "metadata": {
  "colab": {
   "provenance": []
  },
  "kernelspec": {
   "display_name": "py3_10_open",
   "language": "python",
   "name": "py3_10_open"
  },
  "language_info": {
   "codemirror_mode": {
    "name": "ipython",
    "version": 3
   },
   "file_extension": ".py",
   "mimetype": "text/x-python",
   "name": "python",
   "nbconvert_exporter": "python",
   "pygments_lexer": "ipython3",
   "version": "3.10.14"
  }
 },
 "nbformat": 4,
 "nbformat_minor": 4
}
